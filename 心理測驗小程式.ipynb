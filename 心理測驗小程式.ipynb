{
 "cells": [
  {
   "cell_type": "markdown",
   "metadata": {},
   "source": [
    "心理測驗ㄒ"
   ]
  },
  {
   "cell_type": "markdown",
   "metadata": {},
   "source": [
    "人生財富命中註定？測驗你到底能有幾桶金！\n",
    "\n",
    "古今中外對於追求財富的熱情一直都沒有消退過，畢竟金錢真的能夠給你帶來你要的生活享樂，是你有更多選擇的物質保障。\n",
    "\n",
    "有人說，在每個人的一生中，財富都是注定的。如果真的如此，那你的一生中會有幾桶金呢？來測驗了解一下吧！\n",
    "\n",
    "心理測驗題目：你在裝修新房子的時候，會在那一部分花最多錢？\n",
    "\n",
    "A、客廳的沙發、擺設 B、臥室的床 C、浴室、廚房 D、廚房"
   ]
  },
  {
   "cell_type": "code",
   "execution_count": null,
   "metadata": {},
   "outputs": [],
   "source": [
    "ans = input(\"請輸入你的選擇:\")\n",
    "if ans == \"A\":\n",
    "    print('你天生有致富的命，可惜不太會把握，回想一下自己花錢的態度，別太注意表面功夫，要考慮收支平衡！其實你是財運不差的人，別一直偷懶，放棄可以進財的機會。')\n",
    "elif ans == \"B\":\n",
    "    print('你的命裡只有兩座金山，但是卻也餓不了。你是個高品味的人，天生上流社會的人物，或許目前你的財務狀況還談不上大富大貴，但是你總是口袋快見底時又剛好有適時的補充。你是窮不了的，只是還稱不上是大富翁。')\n",
    "elif ans == \"C\":\n",
    "    print('你的命裡有三桶金，你的不斤斤計較能讓你得到意外之財。你看起來實在不像是會成為大富翁的人，但是人不可貌相，你偏偏是最有機會成為大富翁的人。你的財運很好，做什麼工作都賺錢！連你自己都不清楚是怎麼變成大富翁的。')\n",
    "elif ans == \"D\":\n",
    "    print('你的生命裡有四桶金，他們可以讓你吃得飽穿得暖。你是個懂得享受的人，惜福的人。人的一生中，吃飯是個很重要的環節，懂得把廚房花錢整得舒暢的你，運氣自然不會壞到哪裡去。')\n",
    "else:\n",
    "    print('輸入錯誤')\n"
   ]
  }
 ],
 "metadata": {
  "kernelspec": {
   "display_name": "Python 3",
   "language": "python",
   "name": "python3"
  },
  "language_info": {
   "codemirror_mode": {
    "name": "ipython",
    "version": 3
   },
   "file_extension": ".py",
   "mimetype": "text/x-python",
   "name": "python",
   "nbconvert_exporter": "python",
   "pygments_lexer": "ipython3",
   "version": "3.6.10"
  }
 },
 "nbformat": 4,
 "nbformat_minor": 4
}
