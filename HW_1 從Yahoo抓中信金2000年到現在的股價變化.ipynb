{
 "cells": [
  {
   "cell_type": "code",
   "execution_count": 1,
   "metadata": {
    "collapsed": true
   },
   "outputs": [],
   "source": [
    "%matplotlib inline\n",
    "\n",
    "import numpy as np\n",
    "import matplotlib.pyplot as plt\n",
    "import pandas as pd\n",
    "import pandas_datareader.data as web\n",
    "import datetime "
   ]
  },
  {
   "cell_type": "code",
   "execution_count": 5,
   "metadata": {},
   "outputs": [
    {
     "data": {
      "text/html": [
       "<div>\n",
       "<style>\n",
       "    .dataframe thead tr:only-child th {\n",
       "        text-align: right;\n",
       "    }\n",
       "\n",
       "    .dataframe thead th {\n",
       "        text-align: left;\n",
       "    }\n",
       "\n",
       "    .dataframe tbody tr th {\n",
       "        vertical-align: top;\n",
       "    }\n",
       "</style>\n",
       "<table border=\"1\" class=\"dataframe\">\n",
       "  <thead>\n",
       "    <tr style=\"text-align: right;\">\n",
       "      <th></th>\n",
       "      <th>Open</th>\n",
       "      <th>High</th>\n",
       "      <th>Low</th>\n",
       "      <th>Close</th>\n",
       "      <th>Adj Close</th>\n",
       "      <th>Volume</th>\n",
       "    </tr>\n",
       "  </thead>\n",
       "  <tbody>\n",
       "    <tr>\n",
       "      <th>count</th>\n",
       "      <td>4429.000000</td>\n",
       "      <td>4429.000000</td>\n",
       "      <td>4429.000000</td>\n",
       "      <td>4429.000000</td>\n",
       "      <td>4429.000000</td>\n",
       "      <td>4.429000e+03</td>\n",
       "    </tr>\n",
       "    <tr>\n",
       "      <th>mean</th>\n",
       "      <td>14.488255</td>\n",
       "      <td>14.614887</td>\n",
       "      <td>14.348724</td>\n",
       "      <td>14.482790</td>\n",
       "      <td>10.802745</td>\n",
       "      <td>1.273204e+08</td>\n",
       "    </tr>\n",
       "    <tr>\n",
       "      <th>std</th>\n",
       "      <td>3.938214</td>\n",
       "      <td>3.934700</td>\n",
       "      <td>3.938409</td>\n",
       "      <td>3.943399</td>\n",
       "      <td>4.896078</td>\n",
       "      <td>2.686750e+09</td>\n",
       "    </tr>\n",
       "    <tr>\n",
       "      <th>min</th>\n",
       "      <td>4.711370</td>\n",
       "      <td>5.200180</td>\n",
       "      <td>4.652480</td>\n",
       "      <td>4.864490</td>\n",
       "      <td>3.039058</td>\n",
       "      <td>0.000000e+00</td>\n",
       "    </tr>\n",
       "    <tr>\n",
       "      <th>25%</th>\n",
       "      <td>12.232700</td>\n",
       "      <td>12.346100</td>\n",
       "      <td>12.068600</td>\n",
       "      <td>12.183400</td>\n",
       "      <td>7.508517</td>\n",
       "      <td>2.121311e+07</td>\n",
       "    </tr>\n",
       "    <tr>\n",
       "      <th>50%</th>\n",
       "      <td>13.676200</td>\n",
       "      <td>13.817800</td>\n",
       "      <td>13.519000</td>\n",
       "      <td>13.663500</td>\n",
       "      <td>9.369137</td>\n",
       "      <td>3.550808e+07</td>\n",
       "    </tr>\n",
       "    <tr>\n",
       "      <th>75%</th>\n",
       "      <td>17.175900</td>\n",
       "      <td>17.345100</td>\n",
       "      <td>17.037001</td>\n",
       "      <td>17.170000</td>\n",
       "      <td>14.018199</td>\n",
       "      <td>5.891524e+07</td>\n",
       "    </tr>\n",
       "    <tr>\n",
       "      <th>max</th>\n",
       "      <td>23.350000</td>\n",
       "      <td>23.450001</td>\n",
       "      <td>23.250000</td>\n",
       "      <td>23.450001</td>\n",
       "      <td>23.450001</td>\n",
       "      <td>1.503069e+11</td>\n",
       "    </tr>\n",
       "  </tbody>\n",
       "</table>\n",
       "</div>"
      ],
      "text/plain": [
       "              Open         High          Low        Close    Adj Close  \\\n",
       "count  4429.000000  4429.000000  4429.000000  4429.000000  4429.000000   \n",
       "mean     14.488255    14.614887    14.348724    14.482790    10.802745   \n",
       "std       3.938214     3.934700     3.938409     3.943399     4.896078   \n",
       "min       4.711370     5.200180     4.652480     4.864490     3.039058   \n",
       "25%      12.232700    12.346100    12.068600    12.183400     7.508517   \n",
       "50%      13.676200    13.817800    13.519000    13.663500     9.369137   \n",
       "75%      17.175900    17.345100    17.037001    17.170000    14.018199   \n",
       "max      23.350000    23.450001    23.250000    23.450001    23.450001   \n",
       "\n",
       "             Volume  \n",
       "count  4.429000e+03  \n",
       "mean   1.273204e+08  \n",
       "std    2.686750e+09  \n",
       "min    0.000000e+00  \n",
       "25%    2.121311e+07  \n",
       "50%    3.550808e+07  \n",
       "75%    5.891524e+07  \n",
       "max    1.503069e+11  "
      ]
     },
     "execution_count": 5,
     "metadata": {},
     "output_type": "execute_result"
    },
    {
     "data": {
      "image/png": "[encoded data removed]",
      "text/plain": [
       "<matplotlib.figure.Figure at 0x1ca1f07ea58>"
      ]
     },
     "metadata": {},
     "output_type": "display_data"
    }
   ],
   "source": [
    "#將起始設為2000年，結束設為今日\n",
    "start_date='2000-01-01'\n",
    "now_date= datetime.datetime.now().strftime('%Y-%m-%d') #調整格式為YYYY-MM-DD\n",
    "\n",
    "#從yahoo抓取中信金(台股2891)股價資訊\n",
    "ctbc = web.DataReader('2891.TW', 'yahoo', start_date, now_date)\n",
    "ctbc.head() #檢查前幾行資料\n",
    "\n",
    "\n",
    "plt.title(\"CTBC Stock Price: From 2000 to Present\")\n",
    "plt.xlabel(\"Date\")\n",
    "plt.ylabel(\"Price\")\n",
    "ctbc[\"Close\"].plot() #擷取收盤價格欄位並繪圖\n",
    "\n",
    "\n",
    "ctbc.describe() #將Data基本統計量列出"
   ]
  },
  {
   "cell_type": "code",
   "execution_count": null,
   "metadata": {
    "collapsed": true
   },
   "outputs": [],
   "source": []
  }
 ],
 "metadata": {
  "kernelspec": {
   "display_name": "Python 3",
   "language": "python",
   "name": "python3"
  },
  "language_info": {
   "codemirror_mode": {
    "name": "ipython",
    "version": 3
   },
   "file_extension": ".py",
   "mimetype": "text/x-python",
   "name": "python",
   "nbconvert_exporter": "python",
   "pygments_lexer": "ipython3",
   "version": "3.6.1"
  }
 },
 "nbformat": 4,
 "nbformat_minor": 2
}
