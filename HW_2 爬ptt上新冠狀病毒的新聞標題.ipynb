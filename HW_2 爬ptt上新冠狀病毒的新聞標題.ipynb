{
 "cells": [
  {
   "cell_type": "code",
   "execution_count": 1,
   "metadata": {},
   "outputs": [],
   "source": [
    "import requests\n",
    "from bs4 import BeautifulSoup"
   ]
  },
  {
   "cell_type": "code",
   "execution_count": 3,
   "metadata": {},
   "outputs": [
    {
     "name": "stdout",
     "output_type": "stream",
     "text": [
      "/bbs/nCoV2019/M.1583850093.A.F12.html [情報] 3Blue1Brown的傳染病擴散指數模型教學\n",
      "/bbs/nCoV2019/M.1583850917.A.5A0.html Re: [問題] 口罩7天週期怎麼算？\n",
      "/bbs/nCoV2019/M.1583851453.A.D05.html Re: [討論] 至今趨勢:中國以外每16天多了10倍確診案\n",
      "/bbs/nCoV2019/M.1580005540.A.CFA.html [情報] 武漢肺炎台灣及全球病例即時戰情儀表版\n",
      "/bbs/nCoV2019/M.1580893040.A.BA5.html [情報] 3/10 22:27 +手機領口罩懶人包 V3.1\n",
      "/bbs/nCoV2019/M.1581054187.A.A90.html [公告] 板規更新（新增推文規範、政治引戰罰則）\n",
      "/bbs/nCoV2019/M.1581918360.A.408.html [公告] 板上重要參考資訊彙整\n",
      "/bbs/nCoV2019/M.1583075528.A.870.html [2200] 境外45+重災國/區逐日+死亡/痊癒序(3/10)\n"
     ]
    }
   ],
   "source": [
    "req = requests.get(\"https://www.ptt.cc/bbs/nCoV2019/index.html\") #將網頁資料GET下來\n",
    "#原始編碼\n",
    "'''<div class=\"title\">\n",
    "<a href=\"/bbs/nCoV2019/M.1583842912.A.0C4.html\">[新聞] 知道重要了！ 日本內閣成立口罩小組調度</a>\n",
    "</div>'''\n",
    "#將網頁資料以html.parser\n",
    "soup = BeautifulSoup(req.text,\"html.parser\") \n",
    "sel = soup.select(\"div.title a\") #取HTML標中的 <div class=\"title\"></div> 中的<a>標籤存入sel\n",
    "for s in sel:\n",
    "    print(s[\"href\"], s.text) "
   ]
  }
 ],
 "metadata": {
  "kernelspec": {
   "display_name": "Python 3",
   "language": "python",
   "name": "python3"
  },
  "language_info": {
   "codemirror_mode": {
    "name": "ipython",
    "version": 3
   },
   "file_extension": ".py",
   "mimetype": "text/x-python",
   "name": "python",
   "nbconvert_exporter": "python",
   "pygments_lexer": "ipython3",
   "version": "3.7.6"
  }
 },
 "nbformat": 4,
 "nbformat_minor": 2
}
