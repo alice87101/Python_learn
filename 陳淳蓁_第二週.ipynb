{
 "cells": [
  {
   "cell_type": "markdown",
   "metadata": {},
   "source": [
    "第一題【猜數字遊戲】"
   ]
  },
  {
   "cell_type": "code",
   "execution_count": null,
   "metadata": {},
   "outputs": [],
   "source": [
    "from numpy import random \n",
    "\n",
    "a = random.randint(1,100) \n",
    "\n",
    "while True:\n",
    "    g = int(input (\"請輸入一個1到100的整數:\"))\n",
    "    if g == a:\n",
    "        print('答對了！')\n",
    "        break\n",
    "    elif g < a:\n",
    "        print('請猜大一點的數')\n",
    "        continue\n",
    "    else:\n",
    "        print('請猜小一點的數')\n",
    "        continue"
   ]
  },
  {
   "cell_type": "markdown",
   "metadata": {},
   "source": [
    "第二題【感恩讚嘆機器人】"
   ]
  },
  {
   "cell_type": "code",
   "execution_count": null,
   "metadata": {},
   "outputs": [],
   "source": [
    "message = \" \"\n",
    "name = input(\"請輸入你的名字:\")\n",
    "while message != \"quit\":\n",
    "    message = input(\">>\")\n",
    "    print(\"感恩\"+ name[1:] + \"，讚嘆\" + name[1:] +\"。\")"
   ]
  },
  {
   "cell_type": "markdown",
   "metadata": {},
   "source": [
    "第三題 【寫個函數讓字串倒過來排】："
   ]
  },
  {
   "cell_type": "code",
   "execution_count": null,
   "metadata": {},
   "outputs": [],
   "source": [
    "def reverse():\n",
    "    st=input(\"請輸入一個英文單字:\")\n",
    "    return st[::-1]\n",
    "\n",
    "print(reverse())"
   ]
  },
  {
   "cell_type": "markdown",
   "metadata": {},
   "source": [
    "挑戰題一【天干地支】\n",
    "年份是用天干地支\n",
    "\n",
    "天干:甲乙丙丁戊己庚辛壬癸\n",
    "\n",
    "地支:子醜寅卯辰巳午未申酉戌亥\n",
    "\n",
    "2014年是甲午年\n",
    "\n",
    "2015年是乙未年"
   ]
  },
  {
   "cell_type": "code",
   "execution_count": 3,
   "metadata": {},
   "outputs": [],
   "source": [
    "dec = list(\"甲乙丙丁戊己庚辛壬癸\")\n",
    "duo = list(\"子丑寅卯辰巳午未申酉戌亥\")"
   ]
  },
  {
   "cell_type": "code",
   "execution_count": 4,
   "metadata": {},
   "outputs": [
    {
     "name": "stdout",
     "output_type": "stream",
     "text": [
      "2014:甲午年。\n",
      "2015:乙未年。\n",
      "2016:丁申年。\n",
      "2017:戊酉年。\n",
      "2018:己戌年。\n",
      "2019:庚亥年。\n",
      "2020:辛子年。\n",
      "2021:壬丑年。\n",
      "2022:癸寅年。\n",
      "2023:甲卯年。\n",
      "2024:乙辰年。\n",
      "2025:丁巳年。\n",
      "2026:戊午年。\n",
      "2027:己未年。\n",
      "2028:庚申年。\n",
      "2029:辛酉年。\n",
      "2030:壬戌年。\n",
      "2031:癸亥年。\n",
      "2032:甲子年。\n",
      "2033:乙丑年。\n",
      "2034:丁寅年。\n",
      "2035:戊卯年。\n",
      "2036:己辰年。\n",
      "2037:庚巳年。\n",
      "2038:辛午年。\n",
      "2039:壬未年。\n",
      "2040:癸申年。\n",
      "2041:甲酉年。\n",
      "2042:乙戌年。\n",
      "2043:丁亥年。\n",
      "2044:戊子年。\n",
      "2045:己丑年。\n",
      "2046:庚寅年。\n",
      "2047:辛卯年。\n",
      "2048:壬辰年。\n",
      "2049:癸巳年。\n",
      "2050:甲午年。\n",
      "2051:乙未年。\n",
      "2052:丁申年。\n",
      "2053:戊酉年。\n",
      "2054:己戌年。\n",
      "2055:庚亥年。\n",
      "2056:辛子年。\n",
      "2057:壬丑年。\n",
      "2058:癸寅年。\n",
      "2059:甲卯年。\n",
      "2060:乙辰年。\n",
      "2061:丁巳年。\n",
      "2062:戊午年。\n",
      "2063:己未年。\n",
      "2064:庚申年。\n",
      "2065:辛酉年。\n",
      "2066:壬戌年。\n",
      "2067:癸亥年。\n",
      "2068:甲子年。\n",
      "2069:乙丑年。\n",
      "2070:丁寅年。\n",
      "2071:戊卯年。\n",
      "2072:己辰年。\n",
      "2073:庚巳年。\n"
     ]
    }
   ],
   "source": [
    "for i in range(2014,2074):\n",
    "    天 = dec[i%9-7]\n",
    "    地 = duo[(i%12)-4]\n",
    "    print(str(i) + \":\" + 天 + 地 + \"年。\")"
   ]
  },
  {
   "cell_type": "markdown",
   "metadata": {},
   "source": [
    "挑戰題二【我有一棵樹】"
   ]
  },
  {
   "cell_type": "code",
   "execution_count": 5,
   "metadata": {},
   "outputs": [
    {
     "name": "stdout",
     "output_type": "stream",
     "text": [
      "       \n",
      "      *\n",
      "     ***\n",
      "    *****\n",
      "   *******\n",
      "  *********\n",
      " ***********\n",
      "*************\n"
     ]
    }
   ],
   "source": [
    "def tree(n):\n",
    "    for i in range(0,(n+1)):\n",
    "        print (' '*(n-i) + '*'*(2*i-1))\n",
    "        \n",
    "tree(7)"
   ]
  },
  {
   "cell_type": "markdown",
   "metadata": {},
   "source": [
    "挑戰題三：自己出！"
   ]
  },
  {
   "cell_type": "markdown",
   "metadata": {},
   "source": [
    "人生財富命中註定？測驗你到底能有幾桶金！\n",
    "\n",
    "古今中外對於追求財富的熱情一直都沒有消退過，畢竟金錢真的能夠給你帶來你要的生活享樂，是你有更多選擇的物質保障。\n",
    "\n",
    "有人說，在每個人的一生中，財富都是注定的。如果真的如此，那你的一生中會有幾桶金呢？來測驗了解一下吧！\n",
    "\n",
    "心理測驗題目：你在裝修新房子的時候，會在那一部分花最多錢？\n",
    "\n",
    "A、客廳的沙發、擺設\n",
    "B、臥室的床\n",
    "C、浴室、廚房\n",
    "D、廚房"
   ]
  },
  {
   "cell_type": "code",
   "execution_count": 2,
   "metadata": {},
   "outputs": [
    {
     "name": "stdout",
     "output_type": "stream",
     "text": [
      "請輸入你的選擇:A\n",
      "你天生有致富的命，可惜不太會把握，回想一下自己花錢的態度，別太注意表面功夫，要考慮收支平衡！其實你是財運不差的人，別一直偷懶，放棄可以進財的機會。\n"
     ]
    }
   ],
   "source": [
    "ans = input(\"請輸入你的選擇:\")\n",
    "if ans == \"A\":\n",
    "    print('你天生有致富的命，可惜不太會把握，回想一下自己花錢的態度，別太注意表面功夫，要考慮收支平衡！其實你是財運不差的人，別一直偷懶，放棄可以進財的機會。')\n",
    "elif ans == \"B\":\n",
    "    print('你的命裡只有兩座金山，但是卻也餓不了。你是個高品味的人，天生上流社會的人物，或許目前你的財務狀況還談不上大富大貴，但是你總是口袋快見底時又剛好有適時的補充。你是窮不了的，只是還稱不上是大富翁。')\n",
    "elif ans == \"C\":\n",
    "    print('你的命裡有三桶金，你的不斤斤計較能讓你得到意外之財。你看起來實在不像是會成為大富翁的人，但是人不可貌相，你偏偏是最有機會成為大富翁的人。你的財運很好，做什麼工作都賺錢！連你自己都不清楚是怎麼變成大富翁的。')\n",
    "elif ans == \"D\":\n",
    "    print('你的生命裡有四桶金，他們可以讓你吃得飽穿得暖。你是個懂得享受的人，惜福的人。人的一生中，吃飯是個很重要的環節，懂得把廚房花錢整得舒暢的你，運氣自然不會壞到哪裡去。')\n",
    "else:\n",
    "    print('輸入錯誤')\n"
   ]
  }
 ],
 "metadata": {
  "kernelspec": {
   "display_name": "Python 3",
   "language": "python",
   "name": "python3"
  },
  "language_info": {
   "codemirror_mode": {
    "name": "ipython",
    "version": 3
   },
   "file_extension": ".py",
   "mimetype": "text/x-python",
   "name": "python",
   "nbconvert_exporter": "python",
   "pygments_lexer": "ipython3",
   "version": "3.6.10"
  }
 },
 "nbformat": 4,
 "nbformat_minor": 4
}
