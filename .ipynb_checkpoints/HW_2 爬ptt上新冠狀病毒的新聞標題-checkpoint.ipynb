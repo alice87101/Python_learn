{
 "cells": [
  {
   "cell_type": "code",
   "execution_count": 2,
   "metadata": {},
   "outputs": [],
   "source": [
    "import requests\n",
    "from bs4 import BeautifulSoup"
   ]
  },
  {
   "cell_type": "code",
   "execution_count": 4,
   "metadata": {},
   "outputs": [],
   "source": [
    "req = requests.get(\"https://www.ncbi.nlm.nih.gov/pubmed/?term=schizophrenia\") #將網頁資料GET下來\n",
    "#原始編碼\n",
    "'''<div class=\"title\">\n",
    "<a href=\"/bbs/nCoV2019/M.1583842912.A.0C4.html\">[新聞] 知道重要了！ 日本內閣成立口罩小組調度</a>\n",
    "</div>'''\n",
    "#將網頁資料以html.parser\n",
    "soup = BeautifulSoup(req.text,\"html.parser\") \n",
    "sel = soup.select(\"div.title a\") #取HTML標中的 <div class=\"title\"></div> 中的<a>標籤存入sel\n",
    "for s in sel:\n",
    "    print(s[\"href\"], s.text) "
   ]
  }
 ],
 "metadata": {
  "kernelspec": {
   "display_name": "Python 3",
   "language": "python",
   "name": "python3"
  },
  "language_info": {
   "codemirror_mode": {
    "name": "ipython",
    "version": 3
   },
   "file_extension": ".py",
   "mimetype": "text/x-python",
   "name": "python",
   "nbconvert_exporter": "python",
   "pygments_lexer": "ipython3",
   "version": "3.7.6"
  }
 },
 "nbformat": 4,
 "nbformat_minor": 2
}
