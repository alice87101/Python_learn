{
 "cells": [
  {
   "cell_type": "code",
   "execution_count": null,
   "metadata": {
    "collapsed": true
   },
   "outputs": [],
   "source": [
    "%matplotlib inline\n",
    "\n",
    "import numpy as np\n",
    "import matplotlib.pyplot as plt\n",
    "import pandas as pd\n",
    "#import pandas_datareader.data as web\n",
    "import datetime "
   ]
  },
  {
   "cell_type": "code",
   "execution_count": 7,
   "metadata": {},
   "outputs": [
    {
     "ename": "ModuleNotFoundError",
     "evalue": "No module named 'urllib2'",
     "output_type": "error",
     "traceback": [
      "\u001b[1;31m---------------------------------------------------------------------------\u001b[0m",
      "\u001b[1;31mModuleNotFoundError\u001b[0m                       Traceback (most recent call last)",
      "\u001b[1;32m<ipython-input-7-06841d8555a6>\u001b[0m in \u001b[0;36m<module>\u001b[1;34m()\u001b[0m\n\u001b[0;32m      1\u001b[0m \u001b[1;33m\u001b[0m\u001b[0m\n\u001b[0;32m      2\u001b[0m \u001b[1;31m#import cookielib\u001b[0m\u001b[1;33m\u001b[0m\u001b[1;33m\u001b[0m\u001b[0m\n\u001b[1;32m----> 3\u001b[1;33m \u001b[1;32mimport\u001b[0m \u001b[0murllib2\u001b[0m\u001b[1;33m\u001b[0m\u001b[0m\n\u001b[0m\u001b[0;32m      4\u001b[0m \u001b[1;33m\u001b[0m\u001b[0m\n\u001b[0;32m      5\u001b[0m \u001b[0murl\u001b[0m \u001b[1;33m=\u001b[0m \u001b[1;34m\"http://www.baidu.com\"\u001b[0m\u001b[1;33m\u001b[0m\u001b[0m\n",
      "\u001b[1;31mModuleNotFoundError\u001b[0m: No module named 'urllib2'"
     ]
    }
   ],
   "source": [
    "#!/usr/bin/python # -*- coding: UTF-8 -*- \n",
    "#import cookielib \n",
    "import urllib2 \n",
    "\n",
    "url = \"http://www.baidu.com\" \n",
    "response1 = urllib2.urlopen(url) \n",
    "\n",
    "#原文網址：https://kknews.cc/code/ekkk4er.html"
   ]
  },
  {
   "cell_type": "code",
   "execution_count": null,
   "metadata": {
    "collapsed": true
   },
   "outputs": [],
   "source": [
    "print (\"第一種方法\") \n",
    "#獲取狀態碼，200表示成功  \n",
    "print response1.getcode() \n",
    "#獲取網頁內容的長度  \n",
    "print len(response1.read()) \n"
   ]
  },
  {
   "cell_type": "code",
   "execution_count": null,
   "metadata": {
    "collapsed": true
   },
   "outputs": [],
   "source": [
    "print (\"第二種方法\")\n",
    "request = urllib2.Request(url) \n",
    "#模擬Mozilla瀏覽器進行爬蟲 \n",
    "request.add_header(\"user-agent\",\"Mozilla/5.0\") \n",
    "response2 = urllib2.urlopen(request) \n",
    "print response2.getcode() \n",
    "print len(response2.read()) "
   ]
  },
  {
   "cell_type": "code",
   "execution_count": null,
   "metadata": {
    "collapsed": true
   },
   "outputs": [],
   "source": [
    "print (\"第三種方法\" )\n",
    "cookie = cookielib.CookieJar() \n",
    "#加入urllib2處理cookie的能力 \n",
    "opener = \n",
    "urllib2.build_opener(urllib2.HTTPCookieProcessor(cookie)) \n",
    "urllib2.install_opener(opener) \n",
    "response3 = urllib2.urlopen(url) \n",
    "print response3.getcode() \n",
    "print len(response3.read()) \n",
    "print cookie"
   ]
  }
 ],
 "metadata": {
  "kernelspec": {
   "display_name": "Python 3",
   "language": "python",
   "name": "python3"
  },
  "language_info": {
   "codemirror_mode": {
    "name": "ipython",
    "version": 3
   },
   "file_extension": ".py",
   "mimetype": "text/x-python",
   "name": "python",
   "nbconvert_exporter": "python",
   "pygments_lexer": "ipython3",
   "version": "3.6.10"
  }
 },
 "nbformat": 4,
 "nbformat_minor": 2
}
